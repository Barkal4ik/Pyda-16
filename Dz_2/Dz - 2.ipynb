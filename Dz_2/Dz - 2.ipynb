{
 "cells": [
  {
   "cell_type": "code",
   "execution_count": 25,
   "metadata": {},
   "outputs": [
    {
     "name": "stdout",
     "output_type": "stream",
     "text": [
      "l\n"
     ]
    }
   ],
   "source": [
    "a = 'hello'\n",
    "low = 0\n",
    "high = len(a) - 1\n",
    "mid = (low + high) / 2\n",
    "high_1 = len(a) - 0\n",
    "mid_1 = (low + high_1) / 2 \n",
    "if len(a) % 2 != 0:\n",
    "    print (a[int(mid)])\n",
    "else:\n",
    "    print (str(a[int(mid)]) + str(a[int(mid_1)]))"
   ]
  },
  {
   "cell_type": "code",
   "execution_count": 26,
   "metadata": {},
   "outputs": [
    {
     "name": "stdout",
     "output_type": "stream",
     "text": [
      "Введите число:\n",
      "5\n",
      "Введите число:\n",
      "10\n",
      "Введите число:\n",
      "5\n",
      "Введите число:\n",
      "0\n",
      "Результат:\n",
      "20\n"
     ]
    }
   ],
   "source": [
    "a = int(input(\"Введите число:\\n\"))\n",
    "b = 0\n",
    "while a != 0:\n",
    "    b += a\n",
    "    a = int(input(\"Введите число:\\n\")) \n",
    "print (\"Результат:\")\n",
    "print (b)"
   ]
  },
  {
   "cell_type": "code",
   "execution_count": 27,
   "metadata": {},
   "outputs": [
    {
     "name": "stdout",
     "output_type": "stream",
     "text": [
      "Alex и Emma\n",
      "Arthur и Kate\n",
      "John и Kira\n",
      "Peter и Liza\n",
      "Richard и Trisha\n"
     ]
    }
   ],
   "source": [
    "boys = ['Peter', 'Alex', 'John', 'Arthur', 'Richard']\n",
    "girls = ['Kate', 'Liza', 'Kira', 'Emma', 'Trisha']\n",
    "\n",
    "boys.sort()\n",
    "girls.sort()\n",
    "\n",
    "i = 0  \n",
    "if len(boys) == len(girls): \n",
    "    while i < len(boys):\n",
    "        print (boys[i] + ' и ' + girls[i])\n",
    "        i += 1\n",
    "else:\n",
    "    print('Внимание кто-то может остаться без пары!')"
   ]
  },
  {
   "cell_type": "code",
   "execution_count": 28,
   "metadata": {},
   "outputs": [
    {
     "name": "stdout",
     "output_type": "stream",
     "text": [
      "Средняя температура в странах:\n",
      "Thailand - 57.2 C\n",
      "Germany - 39.1 C\n",
      "Russia - 20.9 C\n",
      "Poland - 35.8 C\n"
     ]
    }
   ],
   "source": [
    "countries_temperature = [\n",
    "['Thailand', [75.2, 77, 78.8, 73.4, 68, 75.2, 77]],\n",
    "['Germany', [57.2, 55.4, 59, 59, 53.6]],\n",
    "['Russia', [35.6, 37.4, 39.2, 41, 42.8, 39.2, 35.6]],\n",
    "['Poland', [50, 50, 53.6, 57.2, 55.4, 55.4]]\n",
    "]\n",
    "#============================================\n",
    "t1 = []\n",
    "t2 = []\n",
    "t3 = []\n",
    "t4 = []\n",
    "for el in countries_temperature[0][1]:\n",
    "    t1.append(el)    \n",
    "for ele in countries_temperature[1][1]:\n",
    "    t2.append(ele)\n",
    "for elem in countries_temperature[2][1]:\n",
    "    t3.append(elem)\n",
    "for eleme in countries_temperature[3][1]:\n",
    "    t4.append(eleme) \n",
    "#===========================================    \n",
    "print('Средняя температура в странах:')\n",
    "print(str(countries_temperature[0][0]) + ' - ' + str(round((sum(t1)/len(t1)-32)/1.8 ,1)) + ' C')\n",
    "print(str(countries_temperature[1][0]) + ' - ' + str(round((sum(t2)/len(t2)-32)/1.8 ,1)) + ' C')\n",
    "print(str(countries_temperature[2][0]) + ' - ' + str(round((sum(t3)/len(t3)-32)/1.8 ,1)) + ' C')\n",
    "print(str(countries_temperature[3][0]) + ' - ' + str(round((sum(t4)/len(t4)-32)/1.8 ,1)) + ' C')"
   ]
  }
 ],
 "metadata": {
  "kernelspec": {
   "display_name": "Python 3",
   "language": "python",
   "name": "python3"
  },
  "language_info": {
   "codemirror_mode": {
    "name": "ipython",
    "version": 3
   },
   "file_extension": ".py",
   "mimetype": "text/x-python",
   "name": "python",
   "nbconvert_exporter": "python",
   "pygments_lexer": "ipython3",
   "version": "3.8.3"
  }
 },
 "nbformat": 4,
 "nbformat_minor": 4
}
