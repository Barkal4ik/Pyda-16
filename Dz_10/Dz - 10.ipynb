{
 "cells": [
  {
   "cell_type": "code",
   "execution_count": 187,
   "metadata": {},
   "outputs": [],
   "source": [
    "import pandas as pd"
   ]
  },
  {
   "cell_type": "code",
   "execution_count": 188,
   "metadata": {
    "scrolled": true
   },
   "outputs": [
    {
     "data": {
      "text/plain": [
       "318    39553\n",
       "Name: movieId, dtype: int64"
      ]
     },
     "execution_count": 188,
     "metadata": {},
     "output_type": "execute_result"
    }
   ],
   "source": [
    "data = pd.read_csv('ratings.csv')\n",
    "data[data['rating'] == 5.0]['movieId'].value_counts().head(1)"
   ]
  },
  {
   "cell_type": "code",
   "execution_count": 186,
   "metadata": {},
   "outputs": [
    {
     "name": "stdout",
     "output_type": "stream",
     "text": [
      "суммарное потребление: 240580.0\n"
     ]
    }
   ],
   "source": [
    "df = pd.read_csv('power.csv')\n",
    "sum_ = 0 \n",
    "df_2 = df[(df['year'] >= 2005) & (df['year'] <= 2010) & (df['quantity'] > 0)]\n",
    "df_3 = df_2[df_2.category.isin([4, 12, 21])]\n",
    "sum_ = df_3[df_3.country.str.contains('|'.join(['Lat','Lit','Est']))]['quantity'].sum()\n",
    "print(f'суммарное потребление: {sum_}')"
   ]
  },
  {
   "cell_type": "code",
   "execution_count": 174,
   "metadata": {},
   "outputs": [
    {
     "data": {
      "text/html": [
       "<div>\n",
       "<style scoped>\n",
       "    .dataframe tbody tr th:only-of-type {\n",
       "        vertical-align: middle;\n",
       "    }\n",
       "\n",
       "    .dataframe tbody tr th {\n",
       "        vertical-align: top;\n",
       "    }\n",
       "\n",
       "    .dataframe thead th {\n",
       "        text-align: right;\n",
       "    }\n",
       "</style>\n",
       "<table border=\"1\" class=\"dataframe\">\n",
       "  <thead>\n",
       "    <tr style=\"text-align: right;\">\n",
       "      <th></th>\n",
       "      <th>Название</th>\n",
       "      <th>Цена</th>\n",
       "      <th>Изменение</th>\n",
       "      <th>Изменение(%)</th>\n",
       "      <th>Обновлено</th>\n",
       "    </tr>\n",
       "  </thead>\n",
       "  <tbody>\n",
       "    <tr>\n",
       "      <th>0</th>\n",
       "      <td>Индекс МосБиржи Индекс МосБиржи (IMOEX)</td>\n",
       "      <td>349 350</td>\n",
       "      <td>-625.00</td>\n",
       "      <td>-0.00</td>\n",
       "      <td>NaN</td>\n",
       "    </tr>\n",
       "    <tr>\n",
       "      <th>1</th>\n",
       "      <td>Индекс РТС Индекс РТС (RTSI)</td>\n",
       "      <td>1 484.60</td>\n",
       "      <td>-9.98</td>\n",
       "      <td>-0.67</td>\n",
       "      <td>NaN</td>\n",
       "    </tr>\n",
       "    <tr>\n",
       "      <th>2</th>\n",
       "      <td>Dow Jones Индекс Dow Jones</td>\n",
       "      <td>31 522.80</td>\n",
       "      <td>0.00</td>\n",
       "      <td>0.00</td>\n",
       "      <td>NaN</td>\n",
       "    </tr>\n",
       "    <tr>\n",
       "      <th>3</th>\n",
       "      <td>S&amp;P 500 Индекс S&amp;P 500</td>\n",
       "      <td>3 922</td>\n",
       "      <td>1.00</td>\n",
       "      <td>0.00</td>\n",
       "      <td>NaN</td>\n",
       "    </tr>\n",
       "    <tr>\n",
       "      <th>4</th>\n",
       "      <td>Nasdaq 100 Индекс Nasdaq 100</td>\n",
       "      <td>13 773.80</td>\n",
       "      <td>0.00</td>\n",
       "      <td>0.00</td>\n",
       "      <td>NaN</td>\n",
       "    </tr>\n",
       "    <tr>\n",
       "      <th>5</th>\n",
       "      <td>Euro Stoxx 50 Индекс Euro Stoxx 50 (STOXX50E)</td>\n",
       "      <td>3 715.3</td>\n",
       "      <td>3.30</td>\n",
       "      <td>0.10</td>\n",
       "      <td>NaN</td>\n",
       "    </tr>\n",
       "    <tr>\n",
       "      <th>6</th>\n",
       "      <td>FTSE 100 Индекс FTSE</td>\n",
       "      <td>6 735.82</td>\n",
       "      <td>-13.04</td>\n",
       "      <td>-0.19</td>\n",
       "      <td>NaN</td>\n",
       "    </tr>\n",
       "    <tr>\n",
       "      <th>7</th>\n",
       "      <td>Nikkei 225 Индекс Nikkei 225 (N225)</td>\n",
       "      <td>30 372</td>\n",
       "      <td>40.00</td>\n",
       "      <td>0.00</td>\n",
       "      <td>NaN</td>\n",
       "    </tr>\n",
       "    <tr>\n",
       "      <th>8</th>\n",
       "      <td>Russell 2000 Индекс Russell 2000</td>\n",
       "      <td>2 147.46</td>\n",
       "      <td>0.00</td>\n",
       "      <td>0.00</td>\n",
       "      <td>NaN</td>\n",
       "    </tr>\n",
       "    <tr>\n",
       "      <th>9</th>\n",
       "      <td>DAX30 Индекс DAX30</td>\n",
       "      <td>13 935.1</td>\n",
       "      <td>-64.20</td>\n",
       "      <td>-0.50</td>\n",
       "      <td>NaN</td>\n",
       "    </tr>\n",
       "  </tbody>\n",
       "</table>\n",
       "</div>"
      ],
      "text/plain": [
       "                                        Название       Цена  Изменение  \\\n",
       "0        Индекс МосБиржи Индекс МосБиржи (IMOEX)    349 350    -625.00   \n",
       "1                   Индекс РТС Индекс РТС (RTSI)   1 484.60      -9.98   \n",
       "2                     Dow Jones Индекс Dow Jones  31 522.80       0.00   \n",
       "3                         S&P 500 Индекс S&P 500      3 922       1.00   \n",
       "4                   Nasdaq 100 Индекс Nasdaq 100  13 773.80       0.00   \n",
       "5  Euro Stoxx 50 Индекс Euro Stoxx 50 (STOXX50E)    3 715.3       3.30   \n",
       "6                           FTSE 100 Индекс FTSE   6 735.82     -13.04   \n",
       "7            Nikkei 225 Индекс Nikkei 225 (N225)     30 372      40.00   \n",
       "8               Russell 2000 Индекс Russell 2000   2 147.46       0.00   \n",
       "9                             DAX30 Индекс DAX30   13 935.1     -64.20   \n",
       "\n",
       "   Изменение(%)  Обновлено  \n",
       "0         -0.00        NaN  \n",
       "1         -0.67        NaN  \n",
       "2          0.00        NaN  \n",
       "3          0.00        NaN  \n",
       "4          0.00        NaN  \n",
       "5          0.10        NaN  \n",
       "6         -0.19        NaN  \n",
       "7          0.00        NaN  \n",
       "8          0.00        NaN  \n",
       "9         -0.50        NaN  "
      ]
     },
     "execution_count": 174,
     "metadata": {},
     "output_type": "execute_result"
    }
   ],
   "source": [
    "data = pd.read_html('https://fortrader.org/quotes')[5]\n",
    "data.head(10)"
   ]
  }
 ],
 "metadata": {
  "kernelspec": {
   "display_name": "Python 3",
   "language": "python",
   "name": "python3"
  },
  "language_info": {
   "codemirror_mode": {
    "name": "ipython",
    "version": 3
   },
   "file_extension": ".py",
   "mimetype": "text/x-python",
   "name": "python",
   "nbconvert_exporter": "python",
   "pygments_lexer": "ipython3",
   "version": "3.8.3"
  }
 },
 "nbformat": 4,
 "nbformat_minor": 4
}
