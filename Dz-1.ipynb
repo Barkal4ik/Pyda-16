{
 "cells": [
  {
   "cell_type": "code",
   "execution_count": 1,
   "metadata": {},
   "outputs": [
    {
     "name": "stdout",
     "output_type": "stream",
     "text": [
      "Фраза 1 длиннее фразы 2\n"
     ]
    }
   ],
   "source": [
    "phrase_1 = 'Насколько проще было бы писать программы, если бы не заказчики'\n",
    "phrase_2 = '640Кб должно хватить для любых задач. Билл Гейтс (по легенде)'\n",
    "if phrase_1 > phrase_2:\n",
    "    print('Фраза 1 длиннее фразы 2')  "
   ]
  },
  {
   "cell_type": "code",
   "execution_count": 2,
   "metadata": {},
   "outputs": [
    {
     "name": "stdout",
     "output_type": "stream",
     "text": [
      "Фраза 2 длиннее фразы 1\n"
     ]
    }
   ],
   "source": [
    "phrase_1 = '640Кб должно хватить для любых задач. Билл Гейтс (по легенде)'\n",
    "phrase_2 = 'Насколько проще было бы писать программы, если бы не заказчики'\n",
    "if phrase_2 > phrase_1:\n",
    "    print('Фраза 2 длиннее фразы 1')"
   ]
  },
  {
   "cell_type": "code",
   "execution_count": 3,
   "metadata": {},
   "outputs": [
    {
     "name": "stdout",
     "output_type": "stream",
     "text": [
      "Фразы равной длины\n"
     ]
    }
   ],
   "source": [
    "phrase_1 = 'Насколько проще было бы писать программы, если бы не заказчики'\n",
    "phrase_2 = 'Насколько проще было бы писать программы, если бы не заказчики'\n",
    "if phrase_1 == phrase_2:\n",
    "    print('Фразы равной длины')"
   ]
  },
  {
   "cell_type": "code",
   "execution_count": 5,
   "metadata": {},
   "outputs": [
    {
     "name": "stdout",
     "output_type": "stream",
     "text": [
      "Високосный год\n"
     ]
    }
   ],
   "source": [
    "year = 2020\n",
    "if year == 2019:\n",
    "    print('Обычный год')\n",
    "elif year == 2020:\n",
    "    print('Високосный год')"
   ]
  },
  {
   "cell_type": "code",
   "execution_count": 18,
   "metadata": {},
   "outputs": [
    {
     "name": "stdout",
     "output_type": "stream",
     "text": [
      "Обычный год\n"
     ]
    }
   ],
   "source": [
    "year = 2019\n",
    "if year == 2019:\n",
    "    print('Обычный год')\n",
    "elif year == 2020:\n",
    "    print('Високосный год')"
   ]
  },
  {
   "cell_type": "code",
   "execution_count": 13,
   "metadata": {},
   "outputs": [
    {
     "name": "stdout",
     "output_type": "stream",
     "text": [
      "Введите день30\n",
      "Введите месяцАвгуст\n",
      "Дева\n"
     ]
    }
   ],
   "source": [
    "user_input_1 = int(input('Введите день'))\n",
    "user_input = (input('Введите месяц'))\n",
    "if user_input_1 == 30 and user_input == 'Август':\n",
    "    print('Дева')\n",
    "elif user_input_1 == 29 and user_input == 'Октябрь':\n",
    "    print('Скорпион')\n",
    "else: \n",
    "    print('End program')"
   ]
  },
  {
   "cell_type": "code",
   "execution_count": 38,
   "metadata": {
    "scrolled": true
   },
   "outputs": [
    {
     "name": "stdout",
     "output_type": "stream",
     "text": [
      "Стандартная коробка №3\n"
     ]
    }
   ],
   "source": [
    "width = 10\n",
    "length = 205\n",
    "height = 5\n",
    "if width < 15 and length < 15 and height < 15:\n",
    "    print('Коробка №1')\n",
    "elif width > 15 and width < 50 or length > 15 and length < 50 or height > 15 and height < 50:\n",
    "    print('Коробка №2')\n",
    "elif height > 200:\n",
    "    print('Упаковка для лыж')\n",
    "else:\n",
    "    print('Стандартная коробка №3')"
   ]
  },
  {
   "cell_type": "code",
   "execution_count": 8,
   "metadata": {
    "scrolled": true
   },
   "outputs": [
    {
     "name": "stdout",
     "output_type": "stream",
     "text": [
      "Несчастливый билет\n"
     ]
    }
   ],
   "source": [
    "ticket number = 123456\n",
    "b = 1+2+3 # Возможно можно сказать движку чтобы он сам прибавлял первые 3 числа и последние 3, но в лекциях я этого не увидел поэтому решение такое :D\n",
    "c = 4+5+6 # Если есть ссылка на эту манипуляцию то прикрепите её пожалуйста к проверке Дз :))\n",
    "if b == c:\n",
    "        print('Счастливый билет')\n",
    "else:\n",
    "        print('Несчастливый билет')       "
   ]
  },
  {
   "cell_type": "code",
   "execution_count": 9,
   "metadata": {},
   "outputs": [
    {
     "name": "stdout",
     "output_type": "stream",
     "text": [
      "Счастливый билет\n"
     ]
    }
   ],
   "source": [
    "ticket number number = 123321\n",
    "b = 1+2+3\n",
    "c = 3+2+1\n",
    "if b == c:\n",
    "    print('Счастливый билет')\n",
    "else:\n",
    "    print ('Несчастливый билет')"
   ]
  },
  {
   "cell_type": "code",
   "execution_count": 7,
   "metadata": {
    "scrolled": true
   },
   "outputs": [
    {
     "name": "stdout",
     "output_type": "stream",
     "text": [
      "Введите фигуруТреугольник\n",
      "Введите длины 3х его сторон5\n",
      "311.415\n"
     ]
    }
   ],
   "source": [
    "user_input = input('Введите фигуру')\n",
    "if user_input == 'Круг':\n",
    "    user_input1 = int(input('Введите радиус'))\n",
    "elif user_input == 'Треугольник':\n",
    "     user_input2 = int(input('Введите длины 3х его сторон'))\n",
    "if user_input2 == 10:\n",
    "    print(3.11415*10**21000000)        \n",
    "elif user_input == 'Прямоугольник':\n",
    "     user_input3 = int(input('Введите длины 2х его сторон'))\n",
    "if user_input1 == 10:\n",
    "    print(3.11415*10**2)\n",
    "# Сделал всё что смог, не совсем понимаю, как можно развернуть эту задачу, скорее всего что нужно какие то доп.материалы ещё изучить))\n",
    "# Почему если я выбираю допустим треугольник он всё равно считает print(3.11415*10**2) хотя там стоит условие к Кругу?"
   ]
  }
 ],
 "metadata": {
  "kernelspec": {
   "display_name": "Python 3",
   "language": "python",
   "name": "python3"
  },
  "language_info": {
   "codemirror_mode": {
    "name": "ipython",
    "version": 3
   },
   "file_extension": ".py",
   "mimetype": "text/x-python",
   "name": "python",
   "nbconvert_exporter": "python",
   "pygments_lexer": "ipython3",
   "version": "3.8.3"
  }
 },
 "nbformat": 4,
 "nbformat_minor": 4
}
