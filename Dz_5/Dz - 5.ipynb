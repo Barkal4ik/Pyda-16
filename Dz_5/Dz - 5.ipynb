{
 "cells": [
  {
   "cell_type": "code",
   "execution_count": 43,
   "metadata": {},
   "outputs": [
    {
     "data": {
      "text/plain": [
       "{'1840e0b9d4': 'Продукты',\n",
       " '4e4f90fcfb': 'Электроника',\n",
       " 'afea8d72fc': 'Электроника',\n",
       " '373a6055fe': 'Бытовая техника',\n",
       " '9b2ab046f3': 'Электроника',\n",
       " '9f39d307c3': 'Электроника',\n",
       " '44edeffc91': 'Продукты'}"
      ]
     },
     "execution_count": 43,
     "metadata": {},
     "output_type": "execute_result"
    }
   ],
   "source": [
    "import json\n",
    "i = 0\n",
    "purchases = {}\n",
    "with open('purchase_log.txt', encoding = 'utf-8') as f:\n",
    "    next(f)\n",
    "    for line in f:\n",
    "        line = line.strip()\n",
    "        dict_ = json.loads(line)\n",
    "        purchases[dict_['user_id']] = dict_['category']\n",
    "        i += 1\n",
    "        if i > 6:\n",
    "            break\n",
    "f.close()\n",
    "purchases"
   ]
  },
  {
   "cell_type": "code",
   "execution_count": 55,
   "metadata": {},
   "outputs": [
    {
     "name": "stdout",
     "output_type": "stream",
     "text": [
      "1840e0b9d4,other,Продукты\n",
      "\n",
      "4e4f90fcfb,context,Электроника\n",
      "\n",
      "afea8d72fc,other,Электроника\n",
      "\n"
     ]
    }
   ],
   "source": [
    "with open('visit_log.csv', 'r') as f1:\n",
    "    f2 = open('funnel.csv', 'w')\n",
    "    for i, line1 in enumerate(f1):\n",
    "        line1 = line1.strip('\\n')\n",
    "        line1_user_id = line1.split(',')[0]\n",
    "        line1_category = purchases.get(line1_user_id)\n",
    "        if line1_category:\n",
    "            rez = line1 + ',' + line1_category + '\\n'\n",
    "            f2.write(rez)\n",
    "            print(rez)\n",
    "        i += 1\n",
    "        if i > 100:\n",
    "            break\n",
    "    f2.close()        "
   ]
  }
 ],
 "metadata": {
  "kernelspec": {
   "display_name": "Python 3",
   "language": "python",
   "name": "python3"
  },
  "language_info": {
   "codemirror_mode": {
    "name": "ipython",
    "version": 3
   },
   "file_extension": ".py",
   "mimetype": "text/x-python",
   "name": "python",
   "nbconvert_exporter": "python",
   "pygments_lexer": "ipython3",
   "version": "3.8.3"
  }
 },
 "nbformat": 4,
 "nbformat_minor": 4
}
