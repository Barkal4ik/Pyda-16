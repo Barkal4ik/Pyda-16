{
 "cells": [
  {
   "cell_type": "code",
   "execution_count": 186,
   "metadata": {},
   "outputs": [
    {
     "name": "stdout",
     "output_type": "stream",
     "text": [
      "{98, 35, 15, 213, 54, 119}\n"
     ]
    }
   ],
   "source": [
    "# 1\n",
    "ids = {\n",
    "'user1': [213, 213, 213, 15, 213],\n",
    "'user2': [54, 54, 119, 119, 119],\n",
    "'user3': [213, 98, 98, 35]}\n",
    "\n",
    "ids_set = set()\n",
    "for id_ in ids.values():\n",
    "    ids_set = ids_set.union(id_) \n",
    "print(ids_set)"
   ]
  },
  {
   "cell_type": "code",
   "execution_count": 42,
   "metadata": {},
   "outputs": [
    {
     "name": "stdout",
     "output_type": "stream",
     "text": [
      "Поисковых запросов, содержащих 3 слов(а): 36.36 %\n",
      "Поисковых запросов, содержащих 2 слов(а): 36.36 %\n",
      "Поисковых запросов, содержащих 1 слов(а): 27.27 %\n"
     ]
    }
   ],
   "source": [
    "slov = {}\n",
    "res = []\n",
    "queries = [\n",
    "'смотреть сериалы онлайн',\n",
    "'новости спорта',\n",
    "'афиша кино',\n",
    "'курс доллара',\n",
    "'сериалы этим летом',\n",
    "'курс по питону',\n",
    "'сериалы про спорт',\n",
    "'наконец то',\n",
    "'я',\n",
    "'это',\n",
    "'сделал',\n",
    "]\n",
    "\n",
    "for el in queries:\n",
    "    res.append(len(el.split()))\n",
    "#print(res)\n",
    "\n",
    "for ele in res:\n",
    "    if ele not in slov:\n",
    "        slov[ele] = 1\n",
    "    else:\n",
    "        slov[ele] += 1\n",
    "#print(slov) \n",
    "\n",
    "for key, item in slov.items():\n",
    "    print('Поисковых запросов, содержащих', key, 'слов(а):', round(item*100/len(queries),2), '%')\n"
   ]
  },
  {
   "cell_type": "code",
   "execution_count": 31,
   "metadata": {},
   "outputs": [
    {
     "data": {
      "text/plain": [
       "{'vk': {'revenue': 103, 'cost': 98, 'ROI': 5.1},\n",
       " 'yandex': {'revenue': 179, 'cost': 153, 'ROI': 16.99},\n",
       " 'facebook': {'revenue': 103, 'cost': 110, 'ROI': -6.36},\n",
       " 'adwords': {'revenue': 35, 'cost': 34, 'ROI': 2.94},\n",
       " 'twitter': {'revenue': 11, 'cost': 24, 'ROI': -54.17}}"
      ]
     },
     "execution_count": 31,
     "metadata": {},
     "output_type": "execute_result"
    }
   ],
   "source": [
    "# 3\n",
    "results = {\n",
    "'vk': {'revenue': 103, 'cost': 98},\n",
    "'yandex': {'revenue': 179, 'cost': 153},\n",
    "'facebook': {'revenue': 103, 'cost': 110},\n",
    "'adwords': {'revenue': 35, 'cost': 34},\n",
    "'twitter': {'revenue': 11, 'cost': 24},\n",
    "}\n",
    "\n",
    "for company, info in results.items():\n",
    "        info['ROI'] = round(((info['revenue'] / info['cost'] - 1) * 100),2)\n",
    "results\n"
   ]
  },
  {
   "cell_type": "code",
   "execution_count": 35,
   "metadata": {},
   "outputs": [
    {
     "name": "stdout",
     "output_type": "stream",
     "text": [
      "Результат: Максимальный объем продаж на рекламном канале: vk\n"
     ]
    }
   ],
   "source": [
    "# 4\n",
    "stats = {'facebook': 55, 'yandex': 115, 'vk': 120, 'google': 99, 'email': 42, 'ok': 98}\n",
    "inverse = [(value, key) for key, value in stats.items()]\n",
    "print(\"Результат: Максимальный объем продаж на рекламном канале:\", max(inverse)[1])\n"
   ]
  }
 ],
 "metadata": {
  "kernelspec": {
   "display_name": "Python 3",
   "language": "python",
   "name": "python3"
  },
  "language_info": {
   "codemirror_mode": {
    "name": "ipython",
    "version": 3
   },
   "file_extension": ".py",
   "mimetype": "text/x-python",
   "name": "python",
   "nbconvert_exporter": "python",
   "pygments_lexer": "ipython3",
   "version": "3.8.3"
  }
 },
 "nbformat": 4,
 "nbformat_minor": 4
}
