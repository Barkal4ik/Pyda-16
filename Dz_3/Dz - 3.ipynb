{
 "cells": [
  {
   "cell_type": "code",
   "execution_count": 5,
   "metadata": {},
   "outputs": [
    {
     "name": "stdout",
     "output_type": "stream",
     "text": [
      "Результат: {98, 35, 15, 213, 54, 119}\n"
     ]
    }
   ],
   "source": [
    "# 1\n",
    "ids = {\n",
    "'user1': [213, 213, 213, 15, 213],\n",
    "'user2': [54, 54, 119, 119, 119],\n",
    "'user3': [213, 98, 98, 35]}\n",
    "\n",
    "res = []\n",
    "for key, value in ids.items():\n",
    "    for el in value:\n",
    "        res.append(el)\n",
    "print('Результат:', set(res))   "
   ]
  },
  {
   "cell_type": "code",
   "execution_count": 6,
   "metadata": {},
   "outputs": [
    {
     "name": "stdout",
     "output_type": "stream",
     "text": [
      "Результат:\n",
      "\n",
      "Поисковых запросов, содержащих 2 слов(а): 42.86%\n",
      "Поисковых запросов, содержащих 3 слов(а): 57.14%\n"
     ]
    }
   ],
   "source": [
    "# 2.1 - While            \n",
    "res = []\n",
    "res1 = []\n",
    "i = 0\n",
    "queries = [\n",
    "'смотреть сериалы онлайн',\n",
    "'новости спорта',\n",
    "'афиша кино',\n",
    "'курс доллара',\n",
    "'сериалы этим летом',\n",
    "'курс по питону',\n",
    "'сериалы про спорт',\n",
    "]\n",
    "while i < len(queries):\n",
    "    if len(queries[i].split()) == 3:\n",
    "        res.append(\"3 слова\")\n",
    "    elif len(queries[i].split()) == 2:\n",
    "        res1.append(\"2 слова\")\n",
    "    i += 1\n",
    "print('Результат:\\n')\n",
    "print('Поисковых запросов, содержащих 2 слов(а): ',round(len(res1)*100/len(queries),2),  \"%\", sep = '')\n",
    "print('Поисковых запросов, содержащих 3 слов(а): ',round(len(res)*100/len(queries),2), \"%\",  sep = '')\n"
   ]
  },
  {
   "cell_type": "code",
   "execution_count": 7,
   "metadata": {},
   "outputs": [
    {
     "name": "stdout",
     "output_type": "stream",
     "text": [
      "Результат:\n",
      "\n",
      "Поисковых запросов, содержащих 2 слов(а):42.86%\n",
      "Поисковых запросов, содержащих 3 слов(а):57.14%\n"
     ]
    }
   ],
   "source": [
    "# 2.2 - For\n",
    "for el in queries:\n",
    "    if len(el[0].split()) == 3:\n",
    "        res.append(\"3 слова\")\n",
    "    elif len(el[0].split()) == 2:\n",
    "        res1.append(\"2 слова\")\n",
    "print('Результат:\\n')        \n",
    "print('Поисковых запросов, содержащих 2 слов(а):',round(len(res1)*100/len(queries),2), \"%\", sep = '')\n",
    "print('Поисковых запросов, содержащих 3 слов(а):',round(len(res)*100/len(queries),2), \"%\", sep = '')\n"
   ]
  },
  {
   "cell_type": "code",
   "execution_count": 8,
   "metadata": {},
   "outputs": [
    {
     "data": {
      "text/plain": [
       "{'vk': {'revenue': 103, 'cost': 98, 'ROI': 5.1},\n",
       " 'yandex': {'revenue': 179, 'cost': 153, 'ROI': 16.99},\n",
       " 'facebook': {'revenue': 103, 'cost': 110, 'ROI': -6.36},\n",
       " 'adwords': {'revenue': 35, 'cost': 34, 'ROI': 2.94},\n",
       " 'twitter': {'revenue': 11, 'cost': 24, 'ROI': -54.17}}"
      ]
     },
     "execution_count": 8,
     "metadata": {},
     "output_type": "execute_result"
    }
   ],
   "source": [
    "# 3\n",
    "results = {\n",
    "'vk': {'revenue': 103, 'cost': 98},\n",
    "'yandex': {'revenue': 179, 'cost': 153},\n",
    "'facebook': {'revenue': 103, 'cost': 110},\n",
    "'adwords': {'revenue': 35, 'cost': 34},\n",
    "'twitter': {'revenue': 11, 'cost': 24},\n",
    "}\n",
    "\n",
    "for company, info in results.items():\n",
    "        info['ROI'] = round(((info['revenue'] / info['cost'] - 1) * 100),2)\n",
    "results\n"
   ]
  },
  {
   "cell_type": "code",
   "execution_count": 10,
   "metadata": {},
   "outputs": [
    {
     "name": "stdout",
     "output_type": "stream",
     "text": [
      "Результат: Максимальный объем продаж на рекламном канале: vk\n"
     ]
    }
   ],
   "source": [
    "# 4\n",
    "stats = {'facebook': 55, 'yandex': 115, 'vk': 120, 'google': 99, 'email': 42, 'ok': 98}\n",
    "inverse = [(value, key) for key, value in stats.items()]\n",
    "print(\"Результат: Максимальный объем продаж на рекламном канале:\", max(inverse)[1])\n"
   ]
  }
 ],
 "metadata": {
  "kernelspec": {
   "display_name": "Python 3",
   "language": "python",
   "name": "python3"
  },
  "language_info": {
   "codemirror_mode": {
    "name": "ipython",
    "version": 3
   },
   "file_extension": ".py",
   "mimetype": "text/x-python",
   "name": "python",
   "nbconvert_exporter": "python",
   "pygments_lexer": "ipython3",
   "version": "3.8.3"
  }
 },
 "nbformat": 4,
 "nbformat_minor": 4
}
