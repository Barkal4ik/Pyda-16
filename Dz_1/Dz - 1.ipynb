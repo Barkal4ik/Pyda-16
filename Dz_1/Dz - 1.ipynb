{
 "cells": [
  {
   "cell_type": "code",
   "execution_count": 102,
   "metadata": {},
   "outputs": [
    {
     "name": "stdout",
     "output_type": "stream",
     "text": [
      "Фраза 2 длиннее фразы 1\n"
     ]
    }
   ],
   "source": [
    "phrase_1 = len('Python')\n",
    "phrase_2 = len('Krokodil')\n",
    "if phrase_1 > phrase_2:\n",
    "    print('Фраза 1 длиннее фразы 2')\n",
    "elif phrase_1 < phrase_2:\n",
    "    print('Фраза 2 длиннее фразы 1')\n",
    "elif phrase_1 == phrase_2:\n",
    "    print('Фразы равной длины')    "
   ]
  },
  {
   "cell_type": "code",
   "execution_count": 8,
   "metadata": {},
   "outputs": [
    {
     "name": "stdout",
     "output_type": "stream",
     "text": [
      "Високносный\n"
     ]
    }
   ],
   "source": [
    "year = 8\n",
    "if year % 4 == 0:\n",
    "    print('Високносный')\n",
    "else:\n",
    "    print('Обычный')"
   ]
  },
  {
   "cell_type": "code",
   "execution_count": 89,
   "metadata": {},
   "outputs": [
    {
     "name": "stdout",
     "output_type": "stream",
     "text": [
      "Введите день рождения25\n",
      "Введите месяц рожденияАвгуст\n",
      "Знак зодиака Дева\n"
     ]
    }
   ],
   "source": [
    "date = int(input('Введите день рождения'))\n",
    "\n",
    "month = input('Введите месяц рождения')\n",
    "\n",
    "if (date >= 21 and date <= 31 and month== 'Март') or ( month == 'Апрель' and date >= 1 and date <= 20):\n",
    "    \n",
    "    print('Знак зодиака Овен')\n",
    "    \n",
    "elif (date >= 21 and date <= 30 and month == 'Апрель') or ( month == 'Май' and date >= 1 and date <= 21):\n",
    "    \n",
    "    print('Знак зодиака Телец')\n",
    "    \n",
    "elif (date >= 22 and date <= 31 and month == 'Май') or ( month == 'Июнь' and date >=1 and date <= 21):\n",
    "    \n",
    "    print('Знак зодиака Близнецы')\n",
    "    \n",
    "elif (date >= 22 and date <= 30 and month == 'Июнь') or ( month == 'Июль' and date >= 1 and date <= 22):\n",
    "    \n",
    "    print('Знак зодиака Рак')\n",
    "    \n",
    "elif (date >= 23 and date <= 31 and month == 'Июль') or ( month == 'Август' and date >= 1 and date <= 23):\n",
    "    \n",
    "    print('Знак зодиака Лев')\n",
    "    \n",
    "elif (date >= 24 and date <= 31 and month == 'Август') or ( month == 'Сентябрь' and date >= 1 and date <= 23):\n",
    "    \n",
    "    print('Знак зодиака Дева')\n",
    "    \n",
    "elif (date >= 24 and date <= 30 and month == 'Сентябрь') or ( month == 'Октябрь' and date >= 1 and date <= 22):\n",
    "    \n",
    "    print('Знак зодиака Весы')\n",
    "    \n",
    "elif (date >= 23 and date <= 31 and month == 'Октябрь') or ( month == 'Ноябрь' and date >= 1 and date <= 22):\n",
    "    \n",
    "    print('Знак зодиака Скорпион')\n",
    "    \n",
    "elif (date >= 23 and date <= 30 and month == 'Ноябрь') or ( month == 'Декабрь' and date >= 1 and date <= 21):\n",
    "    \n",
    "    print('Знак зодиака Стрелец')\n",
    "    \n",
    "elif (date >= 22 and date <= 31 and month == 'Декабрь') or ( month == 'Январь' and date >= 1 and date <= 19):\n",
    "    \n",
    "    print('Знак зодиака Козерог')\n",
    "    \n",
    "elif (date >= 20 and date <= 31 and month == 'Январь') or ( month == 'Февраль' and date >= 1 and date <= 19):\n",
    "    \n",
    "    print('Знак зодиака Водолей')\n",
    "    \n",
    "elif (date >= 20 and date <= 29 and month == 'Февраль') or ( month == 'Март' and date >= 1 and date <= 20):\n",
    "    \n",
    "    print('Знак зодиака Рыбы')"
   ]
  },
  {
   "cell_type": "code",
   "execution_count": 87,
   "metadata": {
    "scrolled": true
   },
   "outputs": [
    {
     "name": "stdout",
     "output_type": "stream",
     "text": [
      "Стандартная коробка №3\n"
     ]
    }
   ],
   "source": [
    "width = 10\n",
    "length = 205\n",
    "height = 5\n",
    "if width < 15 and length < 15 and height < 15:\n",
    "    print('Коробка №1')\n",
    "elif (width > 15 and width < 50) or (length > 15 and length < 50) or (height > 15 and height < 50):\n",
    "    print('Коробка №2')\n",
    "elif height > 200:\n",
    "    print('Упаковка для лыж')\n",
    "else:\n",
    "    print('Стандартная коробка №3')"
   ]
  },
  {
   "cell_type": "code",
   "execution_count": 105,
   "metadata": {},
   "outputs": [
    {
     "name": "stdout",
     "output_type": "stream",
     "text": [
      "122005\n",
      "Счастливый билет\n"
     ]
    }
   ],
   "source": [
    "num_t = str(input())\n",
    "sum1 = int(num_t[0]) + int(num_t[1]) + int(num_t[2])\n",
    "sum2 = int(num_t[3]) + int(num_t[4]) + int(num_t[5])\n",
    "if sum1 == sum2:\n",
    "    print('Счастливый билет')\n",
    "else:\n",
    "    print('Несчастливый билет')"
   ]
  }
 ],
 "metadata": {
  "kernelspec": {
   "display_name": "Python 3",
   "language": "python",
   "name": "python3"
  },
  "language_info": {
   "codemirror_mode": {
    "name": "ipython",
    "version": 3
   },
   "file_extension": ".py",
   "mimetype": "text/x-python",
   "name": "python",
   "nbconvert_exporter": "python",
   "pygments_lexer": "ipython3",
   "version": "3.8.3"
  }
 },
 "nbformat": 4,
 "nbformat_minor": 4
}
