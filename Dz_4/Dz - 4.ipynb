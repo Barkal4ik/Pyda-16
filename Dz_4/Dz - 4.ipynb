{
 "cells": [
  {
   "cell_type": "code",
   "execution_count": 1,
   "metadata": {},
   "outputs": [],
   "source": [
    "documents = [\n",
    "{'type': 'passport', 'number': '2207 876234', 'name': 'Василий Гупкин'},\n",
    "{'type': 'invoice', 'number': '11-2', 'name': 'Геннадий Покемонов'},\n",
    "{'type': 'insurance', 'number': '10006', 'name': 'Аристарх Павлов'}\n",
    "]"
   ]
  },
  {
   "cell_type": "code",
   "execution_count": 2,
   "metadata": {},
   "outputs": [],
   "source": [
    "directories = {\n",
    "'1': ['2207 876234', '11-2'],\n",
    "'2': ['10006'],\n",
    "'3': []\n",
    "}"
   ]
  },
  {
   "cell_type": "code",
   "execution_count": 49,
   "metadata": {},
   "outputs": [
    {
     "name": "stdout",
     "output_type": "stream",
     "text": [
      "Введите номер документа: \n",
      "10006\n",
      "Владелец документа:  Аристарх Павлов\n"
     ]
    }
   ],
   "source": [
    "def func(): \n",
    "    find = input('Введите номер документа: \\n')\n",
    "    for data in documents:\n",
    "        if data['number'] == find:\n",
    "            print( 'Владелец документа: ', data['name'])\n",
    "            return\n",
    "    print('Документ не найден в базе')  \n",
    "func()"
   ]
  },
  {
   "cell_type": "code",
   "execution_count": 51,
   "metadata": {},
   "outputs": [
    {
     "name": "stdout",
     "output_type": "stream",
     "text": [
      "Введите номер документа: \n",
      "10006\n",
      "Документ находится на 2 полке\n"
     ]
    }
   ],
   "source": [
    "def func_1():\n",
    "    find_1 = input(\"Введите номер документа: \\n\")\n",
    "    for shelf, doc_numb in directories.items():\n",
    "        for el in doc_numb:\n",
    "            if el == find_1:\n",
    "                print(\"Документ находится на\", shelf, \"полке\")\n",
    "                return\n",
    "    print(\"Документ не найден в базе\")                \n",
    "func_1() "
   ]
  },
  {
   "cell_type": "code",
   "execution_count": 54,
   "metadata": {},
   "outputs": [
    {
     "name": "stdout",
     "output_type": "stream",
     "text": [
      "2207 876234 , passport , Василий Гупкин , полка хранения : 1\n",
      "11-2 , invoice , Геннадий Покемонов , полка хранения : 1\n",
      "10006 , insurance , Аристарх Павлов , полка хранения : 2\n"
     ]
    }
   ],
   "source": [
    "def func_2():\n",
    "    for shelf, doc_numb in directories.items():\n",
    "        for ele in doc_numb:\n",
    "            for data in documents:\n",
    "                if data['number'] == ele:\n",
    "                     print(data['number'],\",\", data['type'], \",\", data['name'], \",\", \"полка хранения :\", shelf)\n",
    "func_2()"
   ]
  },
  {
   "cell_type": "code",
   "execution_count": 55,
   "metadata": {},
   "outputs": [
    {
     "name": "stdout",
     "output_type": "stream",
     "text": [
      "Введите номер полки: \n",
      "1\n",
      "Полка уже присутствует, текущий набор полок: ['1', '2', '3']\n"
     ]
    }
   ],
   "source": [
    "def func_3(find_3):\n",
    "    find_3 = input(\"Введите номер полки: \\n\")\n",
    "    if find_3 not in directories:\n",
    "        directories[find_3] = []\n",
    "        print(\"Полка добавлена, текущий набор полок:\" , list((directories.keys())))\n",
    "    else:\n",
    "        print(\"Полка уже присутствует, текущий набор полок:\", list((directories.keys())))             \n",
    "func_3(find_3)"
   ]
  },
  {
   "cell_type": "code",
   "execution_count": 56,
   "metadata": {
    "scrolled": false
   },
   "outputs": [
    {
     "name": "stdout",
     "output_type": "stream",
     "text": [
      "Введите номер полки: \n",
      "1\n",
      "На полке есть документы удалите их перед удалением полки, текущий перечень полок: ['1', '2', '3']\n"
     ]
    }
   ],
   "source": [
    "def func_4(find_4):\n",
    "    find_4 = input(\"Введите номер полки: \\n\")\n",
    "    if find_4 in directories and len(directories[find_4]) == 0:\n",
    "        del directories[find_4]\n",
    "        print(\"Полка удалена, текущий набор полок:\", list((directories.keys())))\n",
    "    elif find_4 not in directories:\n",
    "        print(\"Такой полки не существует, добавте её перед удалением, текущий набор полок:\", list((directories.keys())))\n",
    "    else:\n",
    "            print(\"На полке есть документы удалите их перед удалением полки, текущий перечень полок:\", list((directories.keys())))           \n",
    "func_4(find_4)"
   ]
  },
  {
   "cell_type": "code",
   "execution_count": 101,
   "metadata": {},
   "outputs": [],
   "source": [
    "def func_5():\n",
    "    find_5 = input(\"Введите нужную вам команду: \\n\"\n",
    "    \"по команде “p” можете узнать владельца документа по его номеру \\n\"\n",
    "    \"по команде “s” можете по номеру документа узнать на какой полке он хранится \\n\"\n",
    "    \"по команде “l” можете увидеть полную информацию по всем документам \\n\"\n",
    "    \"по команде “ads” можете добавить новую полку \\n\"              \n",
    "    \"по команде “ds” можете удалить существующую полку из данных (только если она пустая) \\n\")\n",
    "    if find_5 == \"p\":\n",
    "        func()\n",
    "    elif find_5 == \"s\":\n",
    "        func_1()\n",
    "    elif find_5 == \"l\":\n",
    "        func_2()\n",
    "    elif find_5 == \"ads\":\n",
    "        func_3(find_3)\n",
    "    elif find_5 == \"ds\":\n",
    "        func_4(find_4)"
   ]
  },
  {
   "cell_type": "code",
   "execution_count": 105,
   "metadata": {},
   "outputs": [
    {
     "name": "stdout",
     "output_type": "stream",
     "text": [
      "Введите нужную вам команду: \n",
      "по команде “p” можете узнать владельца документа по его номеру \n",
      "по команде “s” можете по номеру документа узнать на какой полке он хранится \n",
      "по команде “l” можете увидеть полную информацию по всем документам \n",
      "по команде “ads” можете добавить новую полку \n",
      "по команде “ds” можете удалить существующую полку из данных (только если она пустая) \n",
      "p\n",
      "Введите номер документа: \n",
      "11-2\n",
      "Владелец документа:  Геннадий Покемонов\n"
     ]
    }
   ],
   "source": [
    "func_5()"
   ]
  }
 ],
 "metadata": {
  "kernelspec": {
   "display_name": "Python 3",
   "language": "python",
   "name": "python3"
  },
  "language_info": {
   "codemirror_mode": {
    "name": "ipython",
    "version": 3
   },
   "file_extension": ".py",
   "mimetype": "text/x-python",
   "name": "python",
   "nbconvert_exporter": "python",
   "pygments_lexer": "ipython3",
   "version": "3.8.3"
  }
 },
 "nbformat": 4,
 "nbformat_minor": 4
}
